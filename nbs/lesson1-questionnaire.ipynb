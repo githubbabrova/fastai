{
 "cells": [
  {
   "cell_type": "markdown",
   "metadata": {},
   "source": [
    "# Lesson 1 questionnaire "
   ]
  },
  {
   "cell_type": "markdown",
   "metadata": {},
   "source": [
    "#### Q1: Do you need these for deep learning?  \n",
    "\n",
    "• Lots of math T / F  \n",
    "• Lots of data T / F  \n",
    "• Lots of expensive computers T / F    \n",
    "• A PhD T / F  \n",
    "\n",
    "#### A1: Answer\n",
    "\n",
    "False to all\n",
    "\n",
    "#### Q2: Name five areas where deep learning is now the best in the world.\n",
    "\n",
    "#### A2: Answer\n",
    "\n",
    "1. Langauge translation  \n",
    "2. Computer vision and facial recognition  \n",
    "3. Playing simulation games  \n",
    "4. Recommendation engines  \n",
    "5. Image segentation \n",
    "\n",
    "\n",
    "\n",
    "\n",
    "\n",
    "\n",
    "\n"
   ]
  },
  {
   "cell_type": "code",
   "execution_count": null,
   "metadata": {},
   "outputs": [],
   "source": []
  }
 ],
 "metadata": {
  "environment": {
   "name": "pytorch-gpu.1-4.m55",
   "type": "gcloud",
   "uri": "gcr.io/deeplearning-platform-release/pytorch-gpu.1-4:m55"
  },
  "kernelspec": {
   "display_name": "Python 3",
   "language": "python",
   "name": "python3"
  },
  "language_info": {
   "codemirror_mode": {
    "name": "ipython",
    "version": 3
   },
   "file_extension": ".py",
   "mimetype": "text/x-python",
   "name": "python",
   "nbconvert_exporter": "python",
   "pygments_lexer": "ipython3",
   "version": "3.7.8"
  }
 },
 "nbformat": 4,
 "nbformat_minor": 4
}
