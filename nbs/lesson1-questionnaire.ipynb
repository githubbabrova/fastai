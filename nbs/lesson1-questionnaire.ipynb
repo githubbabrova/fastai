{
 "cells": [
  {
   "cell_type": "markdown",
   "metadata": {},
   "source": [
    "# Lesson 1 questionnaire "
   ]
  },
  {
   "cell_type": "markdown",
   "metadata": {},
   "source": [
    "#### Q1: Do you need these for deep learning?  \n",
    "\n",
    "• Lots of math T / F  \n",
    "• Lots of data T / F  \n",
    "• Lots of expensive computers T / F    \n",
    "• A PhD T / F  \n",
    "\n",
    "False to all\n",
    "\n",
    "#### Q2: Name five areas where deep learning is now the best in the world.\n",
    "\n",
    "1. Langauge translation  \n",
    "2. Computer vision and facial recognition  \n",
    "3. Playing simulation games  \n",
    "4. Recommendation engines  \n",
    "5. Image segentation \n",
    "\n",
    "#### Q3 What was the name of the first device that was based on the principle of the artificial neuron?\n",
    "\n",
    "A Perceptron\n",
    "\n",
    "#### Q4 Based on the book of the same name, what are the requirements for parallel distributed processing (PDP)?\n",
    "\n",
    "1. An environment in which to learning  \n",
    "2. State of activation\n",
    "3. Activation rule  \n",
    "4. A way to learn from experience and modify connections\n",
    "5. Activation function  \n",
    "6. Output function  \n",
    "7. Connectivity between units  \n",
    "8. Propagation rule  \n",
    "\n",
    "#### Q5 What were the two theoretical misunderstandings that held back the field of neural networks?\n",
    "* Too big  \n",
    "* Too slow\n",
    "\n",
    "\n",
    "\n",
    "#### 6. What is a GPU?\n",
    "\n",
    "Graphical Processing Unit.  This is the technology that underpinds deep learning and neural networks. They are highly parallel and efficient at performing numerical operations, the type of which are common in Neural networks.\n",
    "\n",
    "\n",
    "Open a notebook and execute a cell containing: 1+1. What happens?\n",
    "Follow through each cell of the stripped version of the notebook for this chapter. Before executing each cell, guess what will happen.\n",
    "Complete the Jupyter Notebook online appendix.\n",
    "Why is it hard to use a traditional computer program to recognize images in a photo?\n",
    "What did Samuel mean by \"weight assignment\"?\n",
    "What term do we normally use in deep learning for what Samuel called \"weights\"?\n",
    "Draw a picture that summarizes Samuel's view of a machine learning model.\n",
    "Why is it hard to understand why a deep learning model makes a particular prediction?\n",
    "What is the name of the theorem that shows that a neural network can solve any mathematical problem to any level of accuracy?\n",
    "What do you need in order to train a model?\n",
    "How could a feedback loop impact the rollout of a predictive policing model?\n",
    "Do we always have to use 224×224-pixel images with the cat recognition model?\n",
    "What is the difference between classification and regression?\n",
    "What is a validation set? What is a test set? Why do we need them?\n",
    "What will fastai do if you don't provide a validation set?\n",
    "\n",
    "\n",
    "\n",
    "\n",
    "\n",
    "\n",
    "\n",
    "\n"
   ]
  },
  {
   "cell_type": "code",
   "execution_count": null,
   "metadata": {},
   "outputs": [],
   "source": []
  }
 ],
 "metadata": {
  "environment": {
   "name": "pytorch-gpu.1-4.m55",
   "type": "gcloud",
   "uri": "gcr.io/deeplearning-platform-release/pytorch-gpu.1-4:m55"
  },
  "kernelspec": {
   "display_name": "Python 3",
   "language": "python",
   "name": "python3"
  },
  "language_info": {
   "codemirror_mode": {
    "name": "ipython",
    "version": 3
   },
   "file_extension": ".py",
   "mimetype": "text/x-python",
   "name": "python",
   "nbconvert_exporter": "python",
   "pygments_lexer": "ipython3",
   "version": "3.7.8"
  }
 },
 "nbformat": 4,
 "nbformat_minor": 4
}